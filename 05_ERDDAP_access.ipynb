{
 "cells": [
  {
   "cell_type": "markdown",
   "metadata": {},
   "source": [
    "# ERDDAP Access\n",
    "Find OOI and IOOS salinity data in a specified time interval and bounding box using the ERDDAP advanced search and data access RESTful APIs"
   ]
  },
  {
   "cell_type": "markdown",
   "metadata": {},
   "source": [
    "_Note: This Jupyter notebook originated from [an ERDDAPY notebook from the IOOS gallery](https://ioos.github.io/notebooks_demos/notebooks/2018-03-01-erddapy)_"
   ]
  },
  {
   "cell_type": "markdown",
   "metadata": {},
   "source": [
    " [ERDDAP](https://coastwatch.pfeg.noaa.gov/erddapinfo/) is a data server that gives you a simple, consistent way to download data in the format and the spatial and temporal coverage that you want. ERDDAP is a web application with an interface for people to use. It is also a RESTful web service that allows data access directly from any computer program (e.g. Matlab, R, or webpages).\""
   ]
  },
  {
   "cell_type": "markdown",
   "metadata": {},
   "source": [
    "This notebook uses the python client [erddapy](https://pyoceans.github.io/erddapy) to help construct the RESTful URLs and translate the responses into Pandas and Xarray objects. \n",
    "\n",
    "A typical ERDDAP RESTful URL looks like:\n",
    "\n",
    "[https://data.ioos.us/gliders/erddap/tabledap/whoi_406-20160902T1700.mat?depth,latitude,longitude,salinity,temperature,time&time>=2016-07-10T00:00:00Z&time<=2017-02-10T00:00:00Z &latitude>=38.0&latitude<=41.0&longitude>=-72.0&longitude<=-69.0](https://data.ioos.us/gliders/erddap/tabledap/whoi_406-20160902T1700.mat?depth,latitude,longitude,salinity,temperature,time&time>=2016-07-10T00:00:00Z&time<=2017-02-10T00:00:00Z&latitude>=38.0&latitude<=41.0&longitude>=-72.0&longitude<=-69.0)\n",
    "\n",
    "Let's break it down to smaller parts:\n",
    "\n",
    "- **server**: https://data.ioos.us/gliders/erddap/\n",
    "- **protocol**: tabledap\n",
    "- **dataset_id**: whoi_406-20160902T1700\n",
    "- **response**: .mat\n",
    "- **variables**: depth,latitude,longitude,temperature,time\n",
    "- **constraints**:\n",
    "    - time>=2016-07-10T00:00:00Z\n",
    "    - time<=2017-02-10T00:00:00Z\n",
    "    - latitude>=38.0\n",
    "    - latitude<=41.0\n",
    "    - longitude>=-72.0\n",
    "    - longitude<=-69.0"
   ]
  },
  {
   "cell_type": "code",
   "execution_count": null,
   "metadata": {},
   "outputs": [],
   "source": [
    "import pandas as pd\n",
    "from erddapy import ERDDAP\n",
    "from erddapy.utilities import urlopen\n",
    "import hvplot.xarray\n",
    "import hvplot.pandas\n",
    "import holoviews as hv\n",
    "import numpy as np"
   ]
  },
  {
   "cell_type": "markdown",
   "metadata": {},
   "source": [
    "## 1. Search ERDDAP \"catalog\""
   ]
  },
  {
   "cell_type": "code",
   "execution_count": null,
   "metadata": {},
   "outputs": [],
   "source": [
    "# ERDDAP for OOI\n",
    "server = 'http://erddap.dataexplorer.oceanobservatories.org/erddap'\n",
    "protocol = 'tabledap'"
   ]
  },
  {
   "cell_type": "code",
   "execution_count": null,
   "metadata": {},
   "outputs": [],
   "source": [
    "ooi = ERDDAP(server=server, protocol=protocol)"
   ]
  },
  {
   "cell_type": "markdown",
   "metadata": {},
   "source": [
    "A search for everything looks like this. The only effective filtering parameters being passed are `protocol=tabledap` and `response=csv`."
   ]
  },
  {
   "cell_type": "code",
   "execution_count": null,
   "metadata": {},
   "outputs": [],
   "source": [
    "df = pd.read_csv(urlopen(ooi.get_search_url(response='csv', search_for='all')))\n",
    "len(df)"
   ]
  },
  {
   "cell_type": "markdown",
   "metadata": {},
   "source": [
    "Now we'll refine our search by adding temporal, bounding box and variable constraints. "
   ]
  },
  {
   "cell_type": "code",
   "execution_count": null,
   "metadata": {},
   "outputs": [],
   "source": [
    "min_time = '2018-07-01T00:00:00Z'\n",
    "max_time = '2018-07-15T00:00:00Z'\n",
    "min_lon, max_lon = -127, -122\n",
    "min_lat, max_lat = 44, 48\n",
    "standard_name = 'sea_water_practical_salinity'\n",
    "cdm_data_type = 'timeseries'\n",
    "\n",
    "kw = {\n",
    "    'standard_name': standard_name,  \n",
    "    'min_lon': min_lon,'max_lon': max_lon,'min_lat': min_lat,'max_lat': max_lat, \n",
    "    'min_time': min_time,'max_time': max_time, 'cdm_data_type':cdm_data_type\n",
    "}"
   ]
  },
  {
   "cell_type": "code",
   "execution_count": null,
   "metadata": {},
   "outputs": [],
   "source": [
    "search_url = ooi.get_search_url(response='csv', **kw)\n",
    "search_df = pd.read_csv(urlopen(search_url))\n",
    "search_df = search_df[['Institution', 'Dataset ID','tabledap']]\n",
    "search_df"
   ]
  },
  {
   "cell_type": "markdown",
   "metadata": {},
   "source": [
    "## 2. Read data from one dataset, manually\n",
    "Let's inspect a specific `dataset_id`."
   ]
  },
  {
   "cell_type": "code",
   "execution_count": null,
   "metadata": {},
   "outputs": [],
   "source": [
    "dataset_id = 'ooi-ce01issm-sbd17-06-ctdbpc000'"
   ]
  },
  {
   "cell_type": "markdown",
   "metadata": {},
   "source": [
    "Construct the ERDDAP URL to get the data"
   ]
  },
  {
   "cell_type": "code",
   "execution_count": null,
   "metadata": {},
   "outputs": [],
   "source": [
    "ooi.dataset_id = dataset_id\n",
    "ooi.constraints = {'time>=': min_time,'time<=': max_time}\n",
    "ooi.response='csv'\n",
    "ooi.variables = [ 'time', ooi.get_var_by_attr(dataset_id=dataset_id, standard_name=standard_name)[0]]\n",
    "print(ooi.get_download_url())"
   ]
  },
  {
   "cell_type": "markdown",
   "metadata": {},
   "source": [
    "Read the data into Xarray"
   ]
  },
  {
   "cell_type": "code",
   "execution_count": null,
   "metadata": {},
   "outputs": [],
   "source": [
    "ds = ooi.to_xarray(decode_times=True)\n",
    "#ds = ds.swap_dims({'row':'time'})\n",
    "#[ds[var].plot() for var in ds.data_vars];"
   ]
  },
  {
   "cell_type": "code",
   "execution_count": null,
   "metadata": {},
   "outputs": [],
   "source": [
    "ds.sea_water_practical_salinity.hvplot(grid=True)"
   ]
  },
  {
   "cell_type": "markdown",
   "metadata": {},
   "source": [
    "## 3.  Read data from all datasets, automatically "
   ]
  },
  {
   "cell_type": "markdown",
   "metadata": {},
   "source": [
    "Let's narrow this down by only taking the \"CTDBP\" data"
   ]
  },
  {
   "cell_type": "code",
   "execution_count": null,
   "metadata": {},
   "outputs": [],
   "source": [
    "ctdbp = search_df[search_df['Dataset ID'].str.contains(\"ctdbp\")].reset_index()\n",
    "print(len(ctdbp))\n",
    "ctdbp"
   ]
  },
  {
   "cell_type": "code",
   "execution_count": null,
   "metadata": {},
   "outputs": [],
   "source": [
    "def alllonlat(e, cdm_data_type, min_time, max_time):\n",
    "    url='{}/tabledap/allDatasets.csv?datasetID%2CminLongitude%2CminLatitude&cdm_data_type=%22{}%22&minTime%3C={}&maxTime%3E={}'.format(e.server,\n",
    "                        cdm_data_type,max_time,min_time)\n",
    "    print(url)\n",
    "    df = pd.read_csv(urlopen(url), skiprows=[1])\n",
    "    return df"
   ]
  },
  {
   "cell_type": "code",
   "execution_count": null,
   "metadata": {},
   "outputs": [],
   "source": [
    "dfll = alllonlat(ooi, 'TimeSeries', min_time, max_time)\n",
    "# extract lon,lat values of matching datasets from allDatasets dataframe\n",
    "dfr = dfll[dfll['datasetID'].isin(search_df['Dataset ID'])]"
   ]
  },
  {
   "cell_type": "code",
   "execution_count": null,
   "metadata": {},
   "outputs": [],
   "source": [
    "dfr"
   ]
  },
  {
   "cell_type": "code",
   "execution_count": null,
   "metadata": {},
   "outputs": [],
   "source": [
    "dfr.hvplot.points(x='minLongitude', y='minLatitude', geo=True, \n",
    "                  tiles='OSM', color='red', alpha=0.2, hover_cols=['datasetID'],\n",
    "                  xlim=(min_lon, max_lon), padding=20, title='OOI Stations with Salinity')"
   ]
  },
  {
   "cell_type": "markdown",
   "metadata": {},
   "source": [
    "Loop through datasets extracting data "
   ]
  },
  {
   "cell_type": "code",
   "execution_count": null,
   "metadata": {},
   "outputs": [],
   "source": [
    "df_list = []\n",
    "hv_list = []\n",
    "for dataset_id in ctdbp['Dataset ID'].values:\n",
    "    ooi.dataset_id = dataset_id\n",
    "    ooi.variables = [ \n",
    "        'time', \n",
    "        ooi.get_var_by_attr(dataset_id=dataset_id,  standard_name=standard_name)[0]\n",
    "    ]\n",
    "    try: \n",
    "        ds = ooi.to_xarray(decode_times=True)\n",
    "        df_list.append(ds)\n",
    "        print(dataset_id)\n",
    "        hv_list.append(ds[ooi.variables[-1]].hvplot(label=dataset_id))\n",
    "    except:\n",
    "        pass"
   ]
  },
  {
   "cell_type": "code",
   "execution_count": null,
   "metadata": {},
   "outputs": [],
   "source": [
    "hv.Overlay(hv_list).opts(legend_position='right', width=900, legend_offset=(0,0))"
   ]
  },
  {
   "cell_type": "markdown",
   "metadata": {},
   "source": [
    "### Find all the IOOS salinity data\n",
    "Let's do the same query for IOOS"
   ]
  },
  {
   "cell_type": "code",
   "execution_count": null,
   "metadata": {},
   "outputs": [],
   "source": [
    "ioos = ERDDAP(server=\"http://erddap.sensors.ioos.us/erddap\", protocol=protocol)"
   ]
  },
  {
   "cell_type": "code",
   "execution_count": null,
   "metadata": {},
   "outputs": [],
   "source": [
    "search_url = ioos.get_search_url(response='csv', **kw)\n",
    "search_df = pd.read_csv(urlopen(search_url))\n",
    "search_df = search_df[['Institution', 'Dataset ID','tabledap']]\n",
    "search_df"
   ]
  },
  {
   "cell_type": "code",
   "execution_count": null,
   "metadata": {},
   "outputs": [],
   "source": [
    "ioos.constraints = {'time>=': min_time,'time<=': max_time}\n",
    "ioos.response='csv'"
   ]
  },
  {
   "cell_type": "code",
   "execution_count": null,
   "metadata": {},
   "outputs": [],
   "source": [
    "df_list = []\n",
    "hv_list = []\n",
    "\n",
    "for dataset_id in search_df['Dataset ID'].values:\n",
    "    ioos.dataset_id = dataset_id\n",
    "    ioos.variables = [ \n",
    "        'time', \n",
    "        ioos.get_var_by_attr(dataset_id=dataset_id,  standard_name=standard_name)[0]\n",
    "    ]\n",
    "    try: \n",
    "        ds = ioos.to_xarray(decode_times=True)\n",
    "        df_list.append(ds)\n",
    "        print(dataset_id)\n",
    "        hv_list.append(ds[ioos.variables[-1]].hvplot(label=dataset_id))\n",
    "    except:\n",
    "        pass"
   ]
  },
  {
   "cell_type": "code",
   "execution_count": null,
   "metadata": {},
   "outputs": [],
   "source": [
    "hv.Overlay(hv_list).opts(legend_position='right', width=900, legend_offset=(0,0))"
   ]
  },
  {
   "cell_type": "code",
   "execution_count": null,
   "metadata": {},
   "outputs": [],
   "source": [
    "dfll = alllonlat(ioos, 'TimeSeries', min_time, max_time)\n",
    "# extract lon,lat values of matching datasets from allDatasets dataframe\n",
    "dfr = dfll[dfll['datasetID'].isin(search_df['Dataset ID'])]"
   ]
  },
  {
   "cell_type": "code",
   "execution_count": null,
   "metadata": {},
   "outputs": [],
   "source": [
    "dfr.hvplot.points(x='minLongitude', y='minLatitude', geo=True, \n",
    "                  tiles='OSM', color='red', alpha=0.4, \n",
    "                  xlim=(min_lon, max_lon), padding=20, title='IOOS Stations with Salinity')"
   ]
  }
 ],
 "metadata": {
  "kernelspec": {
   "display_name": "Python 3",
   "language": "python",
   "name": "python3"
  },
  "language_info": {
   "codemirror_mode": {
    "name": "ipython",
    "version": 3
   },
   "file_extension": ".py",
   "mimetype": "text/x-python",
   "name": "python",
   "nbconvert_exporter": "python",
   "pygments_lexer": "ipython3",
   "version": "3.8.6"
  },
  "widgets": {
   "application/vnd.jupyter.widget-state+json": {
    "state": {},
    "version_major": 2,
    "version_minor": 0
   }
  }
 },
 "nbformat": 4,
 "nbformat_minor": 4
}
